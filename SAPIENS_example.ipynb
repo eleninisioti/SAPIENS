{
  "nbformat": 4,
  "nbformat_minor": 0,
  "metadata": {
    "colab": {
      "name": "SAPIENS_example.ipynb",
      "provenance": []
    },
    "kernelspec": {
      "name": "python3",
      "display_name": "Python 3"
    },
    "language_info": {
      "name": "python"
    }
  },
  "cells": [
    {
      "cell_type": "code",
      "execution_count": null,
      "metadata": {
        "id": "Ge7YSMjdH5X-"
      },
      "outputs": [],
      "source": [
        ""
      ]
    }
  ]
}